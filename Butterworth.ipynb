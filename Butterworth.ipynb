{
 "cells": [
  {
   "cell_type": "code",
   "execution_count": 24,
   "metadata": {},
   "outputs": [],
   "source": [
    "import numpy as np\n",
    "import matplotlib.pyplot as plt\n",
    "from enum import Enum"
   ]
  },
  {
   "cell_type": "markdown",
   "metadata": {},
   "source": [
    "<h1> Butterworth Filters </h1>\n",
    "\n",
    "In this notebook, we perform some calculations to learn about Butterworth filters, including my own implementations of some digital butterworth filters and comparing to other implementations in python standard libraries.\n",
    "\n",
    "<h2> History </h2>\n",
    "\n",
    "The Butterworth filter was originally published in a 1930 paper by the physicist Stephen Butterworth in an attempt to simplify the construction of electric filters, which up until that point was usually done as almost an art - components were selected carefully and changed out until the desired filter performance was achieved. \n",
    "\n",
    "The original paper itself is pretty readable by today's standards and I highly recommend just giving the original a read in you have the chance:\n",
    "[On the Theory of Filter Amplifiers](https://www.changpuak.ch/electronics/downloads/On_the_Theory_of_Filter_Amplifiers.pdf)"
   ]
  },
  {
   "cell_type": "code",
   "execution_count": 33,
   "metadata": {},
   "outputs": [],
   "source": [
    "class FilterTypes(Enum):\n",
    "    LOWPASS = 1\n",
    "    HIGHPASS = 2\n",
    "    BANDPASS = 3\n",
    "    BANDSTOP = 4\n",
    "    \n",
    "\n",
    "def plot_filter(filter_, min_freq, max_freq, n=1000, phase=False, group_delay=False):\n",
    "    \"\"\"\n",
    "    \n",
    "    \"\"\"\n",
    "    f = np.logspace(np.log10(min_freq), np.log10(max_freq), n)\n",
    "    response = filter_.frequency_response(f)\n",
    "    plt.semilogx(f, 20 * np.log10(abs(response)))\n",
    "    plt.title(f'Frequency response from {filter_}')\n",
    "    plt.xlabel('Frequency [Hz]')\n",
    "    plt.ylabel('Amplitude [dB]')\n",
    "    plt.margins(0, 0.1)\n",
    "    plt.grid(which='both', axis='both')\n",
    "    plt.show()\n",
    "    \n",
    "\n",
    "class Filter():\n",
    "    \n",
    "    f_response = None # Should be a lambda defining the response function of the filter\n",
    "    \n",
    "    def __init__(self):\n",
    "        raise NotImplementedError\n",
    "        \n",
    "    def frequency_response(self, f):\n",
    "        \"\"\"\n",
    "        Frequency response of filter at particular frequency or set of frequencies\n",
    "        \"\"\"\n",
    "        return self.f_resp(f)\n",
    "        \n",
    "    \n",
    "    def fir(self, N, window):\n",
    "        \"\"\"\n",
    "        Return FIR implementation of the filter\n",
    "        \"\"\"\n",
    "        pass\n",
    "    \n",
    "    \n",
    "class ButterworthFilter(Filter):\n",
    "\n",
    "    def __init__(self, f_c, N, filter_type, bandwidth = None):\n",
    "        \"\"\"\n",
    "        f_c: Cutoff frequency of filter . If filter type is Bandpass or Bandstop, this should\n",
    "            be the center frequency of the filter\n",
    "        N: Order of filter\n",
    "        \n",
    "        \"\"\"\n",
    "        assert filter_type in FilterTypes\n",
    "        if filter_type in [FilterTypes.BANDPASS, FilterTypes.BANDSTOP]:\n",
    "            assert bandwidth is not None\n",
    "        self._fir = None\n",
    "        self.N = N\n",
    "        self.f_c = f_c\n",
    "        \n",
    "        if filter_type is FilterTypes.LOWPASS:\n",
    "            self.f_resp = lambda f: 1/np.sqrt(1 + (f/f_c)**(2*self.N))\n",
    "        \n",
    "    def __repr__(self):\n",
    "        return f'{self.N}th Order Butterworth Filter, f_c = {self.f_c}'\n",
    "        \n",
    "\n",
    "    \n",
    "class ChebyshevyFilter(Filter):\n",
    "    \n",
    "    def __init__(self, filter_type, bandwidth=)\n",
    "        \n",
    "    \n"
   ]
  },
  {
   "cell_type": "code",
   "execution_count": 40,
   "metadata": {},
   "outputs": [
    {
     "data": {
      "image/png": "[encoded data removed]",
      "text/plain": [
       "<Figure size 432x288 with 1 Axes>"
      ]
     },
     "metadata": {
      "needs_background": "light"
     },
     "output_type": "display_data"
    }
   ],
   "source": [
    "# Filter implemented as an FIR\n",
    "N = 512  # Number of points in \n",
    "m = 4 # Order of filter\n",
    "f_c = 100# Desired Cutoff frequency of filter \n",
    "f_s = 20 # sampling rate\n",
    "\n",
    "f = np.linspace(-np.pi*f_s, np.pi*f_s, N)\n",
    "b = ButterworthFilter(f_c, 8, FilterTypes.LOWPASS)\n",
    "plot_filter(b, 1, 1000)"
   ]
  },
  {
   "cell_type": "code",
   "execution_count": null,
   "metadata": {},
   "outputs": [],
   "source": []
  }
 ],
 "metadata": {
  "kernelspec": {
   "display_name": "Python 3",
   "language": "python",
   "name": "python3"
  },
  "language_info": {
   "codemirror_mode": {
    "name": "ipython",
    "version": 3
   },
   "file_extension": ".py",
   "mimetype": "text/x-python",
   "name": "python",
   "nbconvert_exporter": "python",
   "pygments_lexer": "ipython3",
   "version": "3.8.2"
  }
 },
 "nbformat": 4,
 "nbformat_minor": 4
}
